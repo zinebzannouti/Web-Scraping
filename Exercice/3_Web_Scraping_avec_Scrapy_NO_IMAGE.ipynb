{
  "nbformat": 4,
  "nbformat_minor": 0,
  "metadata": {
    "colab": {
      "provenance": [],
      "name": "3- Web Scraping avec Scrapy.ipynb",
      "include_colab_link": true
    },
    "kernelspec": {
      "name": "python3",
      "display_name": "Python 3"
    },
    "language_info": {
      "name": "python"
    }
  },
  "cells": [
    {
      "cell_type": "markdown",
      "metadata": {
        "id": "view-in-github",
        "colab_type": "text"
      },
      "source": [
        "<a href=\"https://colab.research.google.com/github/zinebzannouti/Web-Scraping/blob/main/Exercice/3_Web_Scraping_avec_Scrapy_NO_IMAGE.ipynb\" target=\"_parent\"><img src=\"https://colab.research.google.com/assets/colab-badge.svg\" alt=\"Open In Colab\"/></a>"
      ]
    },
    {
      "cell_type": "markdown",
      "source": [
        "#**Web Scraping using Scrapy**"
      ],
      "metadata": {
        "id": "LQNn5-xzpwfc"
      }
    },
    {
      "cell_type": "markdown",
      "source": [
        "**Installer Scrapy :**"
      ],
      "metadata": {
        "id": "e8J7H06aq0Jr"
      }
    },
    {
      "cell_type": "code",
      "source": [
        "# install scrapy\n",
        "!pip install Scrapy"
      ],
      "metadata": {
        "id": "TJJD8gBQ3HiD"
      },
      "execution_count": null,
      "outputs": []
    },
    {
      "cell_type": "markdown",
      "source": [
        "**Créer un projet**\n",
        "\n",
        "- Avant de commencer à gscraper, vous devrez configurer un nouveau projet Scrapy.\n",
        "\n",
        "- Entrez un répertoire dans lequel vous souhaitez stocker votre code et exécutez :"
      ],
      "metadata": {
        "id": "k7V22p3SrIPd"
      }
    },
    {
      "cell_type": "code",
      "source": [
        "# create files for learning\n",
        "!scrapy startproject firstproject"
      ],
      "metadata": {
        "colab": {
          "base_uri": "https://localhost:8080/"
        },
        "id": "YSDb21CVF8Pt",
        "outputId": "c501a3cd-b2f8-42ff-fbda-0a91dd91c847"
      },
      "execution_count": null,
      "outputs": [
        {
          "output_type": "stream",
          "name": "stdout",
          "text": [
            "New Scrapy project 'firstproject', using template directory '/usr/local/lib/python3.8/dist-packages/scrapy/templates/project', created in:\n",
            "    /content/firstproject\n",
            "\n",
            "You can start your first spider with:\n",
            "    cd firstproject\n",
            "    scrapy genspider example example.com\n"
          ]
        }
      ]
    },
    {
      "cell_type": "markdown",
      "source": [
        "- Cela créera un répertoire 'firstproject' avec le contenu suivant :"
      ],
      "metadata": {
        "id": "slSgFhhLrTKc"
      }
    },
    {
      "cell_type": "code",
      "source": [
        "# get the current working directory\n",
        "import os\n",
        "os.getcwd()"
      ],
      "metadata": {
        "colab": {
          "base_uri": "https://localhost:8080/",
          "height": 35
        },
        "id": "vf25wYKSVe0u",
        "outputId": "177e623e-5789-43ce-cf09-89cd567850a5"
      },
      "execution_count": null,
      "outputs": [
        {
          "output_type": "execute_result",
          "data": {
            "text/plain": [
              "'/content'"
            ],
            "application/vnd.google.colaboratory.intrinsic+json": {
              "type": "string"
            }
          },
          "metadata": {},
          "execution_count": 3
        }
      ]
    },
    {
      "cell_type": "code",
      "source": [
        "# change working directories\n",
        "os.chdir('/content/firstproject/firstproject/spiders')\n",
        "os.getcwd()"
      ],
      "metadata": {
        "colab": {
          "base_uri": "https://localhost:8080/",
          "height": 35
        },
        "id": "SupclqVRVxAi",
        "outputId": "274cf2c6-28ce-46ac-919e-3a50a74103c7"
      },
      "execution_count": null,
      "outputs": [
        {
          "output_type": "execute_result",
          "data": {
            "text/plain": [
              "'/content/firstproject/firstproject/spiders'"
            ],
            "application/vnd.google.colaboratory.intrinsic+json": {
              "type": "string"
            }
          },
          "metadata": {},
          "execution_count": 4
        }
      ]
    },
    {
      "cell_type": "markdown",
      "source": [
        "# **1 - Extraire les quotes :**"
      ],
      "metadata": {
        "id": "Uqanwwey03xN"
      }
    },
    {
      "cell_type": "markdown",
      "source": [
        "**Notre premier Spider :**\n",
        "\n",
        "- Les spiders sont des classes que vous définissez et que Scrapy utilise pour extraire des informations d'un site Web (ou d'un groupe de sites Web).\n",
        "- Ils doivent sous-classer Spideret définir les requêtes initiales à effectuer, éventuellement comment suivre les liens dans les pages et comment analyser le contenu de la page téléchargée pour extraire des données."
      ],
      "metadata": {
        "id": "T7mLadUmr8lT"
      }
    },
    {
      "cell_type": "code",
      "source": [
        "# create quotes_spider.py and save it under the firstproject/firstproject/spiders directory\n",
        "%%writefile -a quotes_spider.py\n",
        "import scrapy\n",
        "\n",
        "\n",
        "class QuotesSpider(scrapy.Spider):\n",
        "    name = \"quotes\"\n",
        "    start_urls = [\n",
        "        'https://quotes.toscrape.com/page/1/',\n",
        "    ]\n",
        "\n",
        "    def parse(self, response):\n",
        "        for quote in response.css('div.quote'):\n",
        "        \n",
        "            yield {\n",
        "                'text': quote.css('span.text::text').get(),\n",
        "                'author': quote.css('small.author::text').get(),\n",
        "                'tags': quote.css('div.tags a.tag::text').getall(),\n",
        "            }\n",
        "\n",
        "        next_page = response.css('li.next a::attr(href)').get()\n",
        "        if next_page is not None:\n",
        "            next_page = response.urljoin(next_page)\n",
        "            yield scrapy.Request(next_page, callback=self.parse)"
      ],
      "metadata": {
        "id": "MlYYVWTc_egv",
        "colab": {
          "base_uri": "https://localhost:8080/"
        },
        "outputId": "7f0427af-4996-4cf9-858b-77799232353d"
      },
      "execution_count": null,
      "outputs": [
        {
          "output_type": "stream",
          "name": "stdout",
          "text": [
            "Writing quotes_spider.py\n"
          ]
        }
      ]
    },
    {
      "cell_type": "markdown",
      "source": [
        "Comme vous pouvez le voir, notre Spider sous-classe **scrapy.Spider** et définit certains attributs et méthodes :\n",
        "\n",
        "- **name**: identifie le spider. Il doit être unique au sein d'un projet, c'est-à-dire que vous ne pouvez pas définir le même nom pour différentes spiders.\n",
        "\n",
        "\n",
        "- **response.css()** : Le résultat de l'exécution response.css('div.quote')est un objet de type liste appelé SelectorList, qui représente une liste d' Selectorobjets qui entourent les éléments XML/HTML et vous permettent d'exécuter d'autres requêtes pour affiner la sélection ou extraire les données\n",
        "\n",
        "- **yield** : Un Spider Scrapy génère généralement de nombreux dictionnaires contenant les données extraites de la page. Pour ce faire, nous utilisons le yield pour spécifier ce qu'on veut extraire'\n",
        "\n"
      ],
      "metadata": {
        "id": "o8Bc6aXHszIZ"
      }
    },
    {
      "cell_type": "markdown",
      "source": [
        "-  la **parse()** méthode recherche le lien vers la page suivante, construit une URL absolue complète à l'aide de la urljoin()méthode (puisque les liens peuvent être relatifs) et génère une nouvelle requête vers la page suivante, s'enregistrant comme rappel à gérer l'extraction des données pour la page suivante et de continuer à parcourir toutes les pages."
      ],
      "metadata": {
        "id": "9g1gphlzym78"
      }
    },
    {
      "cell_type": "markdown",
      "source": [
        "Comment faire fonctionner notre Spider :\n",
        "\n",
        "- Pour faire fonctionner notre araignée, accédez au répertoire de niveau supérieur du projet et exécutez :"
      ],
      "metadata": {
        "id": "kj_b_FkTy4BP"
      }
    },
    {
      "cell_type": "markdown",
      "source": [
        "- Cette commande exécute l'araignée avec le nom quotesque nous venons d'ajouter, qui enverra des requêtes pour le quotes.toscrape.com domaine."
      ],
      "metadata": {
        "id": "u8CHzuBSzFw7"
      }
    },
    {
      "cell_type": "code",
      "source": [
        "!scrapy crawl quotes"
      ],
      "metadata": {
        "id": "Jdw6h3PrQHxd"
      },
      "execution_count": null,
      "outputs": []
    },
    {
      "cell_type": "markdown",
      "source": [
        "**Stockage des données scrapées**\n",
        "\n",
        "- Le moyen le plus simple de stocker les données extraites consiste à utiliser Feed exports , avec la commande suivante : !scrapy crawl quotes -O quotes.json\n",
        "\n",
        "- Cela générera un quotes.json fichier contenant tous les éléments récupérés, sérialisés en JSON ."
      ],
      "metadata": {
        "id": "wYnwM4100MBj"
      }
    },
    {
      "cell_type": "code",
      "source": [
        "!scrapy crawl quotes -O quotes.json"
      ],
      "metadata": {
        "id": "w4CxYneRjBWH"
      },
      "execution_count": null,
      "outputs": []
    },
    {
      "cell_type": "markdown",
      "source": [
        "**Convert our data to CSV format :**"
      ],
      "metadata": {
        "id": "GFGBuowR0p_a"
      }
    },
    {
      "cell_type": "code",
      "source": [
        "import pandas as pd\n",
        "df = pd.read_json('/content/firstproject/firstproject/spiders/quotes.json')\n",
        "df.to_csv('data.csv')\n",
        "df.head(10)"
      ],
      "metadata": {
        "colab": {
          "base_uri": "https://localhost:8080/",
          "height": 363
        },
        "id": "AwlP3Kz8jYxW",
        "outputId": "cf6a9aeb-63ce-4279-8453-cbf854ad54d3"
      },
      "execution_count": null,
      "outputs": [
        {
          "output_type": "execute_result",
          "data": {
            "text/plain": [
              "                                                text             author  \\\n",
              "0  “The world as we have created it is a process ...    Albert Einstein   \n",
              "1  “It is our choices, Harry, that show what we t...       J.K. Rowling   \n",
              "2  “There are only two ways to live your life. On...    Albert Einstein   \n",
              "3  “The person, be it gentleman or lady, who has ...        Jane Austen   \n",
              "4  “Imperfection is beauty, madness is genius and...     Marilyn Monroe   \n",
              "5  “Try not to become a man of success. Rather be...    Albert Einstein   \n",
              "6  “It is better to be hated for what you are tha...         André Gide   \n",
              "7  “I have not failed. I've just found 10,000 way...   Thomas A. Edison   \n",
              "8  “A woman is like a tea bag; you never know how...  Eleanor Roosevelt   \n",
              "9  “A day without sunshine is like, you know, nig...       Steve Martin   \n",
              "\n",
              "                                             tags  \n",
              "0        [change, deep-thoughts, thinking, world]  \n",
              "1                            [abilities, choices]  \n",
              "2  [inspirational, life, live, miracle, miracles]  \n",
              "3              [aliteracy, books, classic, humor]  \n",
              "4                    [be-yourself, inspirational]  \n",
              "5                     [adulthood, success, value]  \n",
              "6                                    [life, love]  \n",
              "7   [edison, failure, inspirational, paraphrased]  \n",
              "8               [misattributed-eleanor-roosevelt]  \n",
              "9                        [humor, obvious, simile]  "
            ],
            "text/html": [
              "\n",
              "  <div id=\"df-151ef976-04f5-4e94-b036-cfb5ad75a67e\">\n",
              "    <div class=\"colab-df-container\">\n",
              "      <div>\n",
              "<style scoped>\n",
              "    .dataframe tbody tr th:only-of-type {\n",
              "        vertical-align: middle;\n",
              "    }\n",
              "\n",
              "    .dataframe tbody tr th {\n",
              "        vertical-align: top;\n",
              "    }\n",
              "\n",
              "    .dataframe thead th {\n",
              "        text-align: right;\n",
              "    }\n",
              "</style>\n",
              "<table border=\"1\" class=\"dataframe\">\n",
              "  <thead>\n",
              "    <tr style=\"text-align: right;\">\n",
              "      <th></th>\n",
              "      <th>text</th>\n",
              "      <th>author</th>\n",
              "      <th>tags</th>\n",
              "    </tr>\n",
              "  </thead>\n",
              "  <tbody>\n",
              "    <tr>\n",
              "      <th>0</th>\n",
              "      <td>“The world as we have created it is a process ...</td>\n",
              "      <td>Albert Einstein</td>\n",
              "      <td>[change, deep-thoughts, thinking, world]</td>\n",
              "    </tr>\n",
              "    <tr>\n",
              "      <th>1</th>\n",
              "      <td>“It is our choices, Harry, that show what we t...</td>\n",
              "      <td>J.K. Rowling</td>\n",
              "      <td>[abilities, choices]</td>\n",
              "    </tr>\n",
              "    <tr>\n",
              "      <th>2</th>\n",
              "      <td>“There are only two ways to live your life. On...</td>\n",
              "      <td>Albert Einstein</td>\n",
              "      <td>[inspirational, life, live, miracle, miracles]</td>\n",
              "    </tr>\n",
              "    <tr>\n",
              "      <th>3</th>\n",
              "      <td>“The person, be it gentleman or lady, who has ...</td>\n",
              "      <td>Jane Austen</td>\n",
              "      <td>[aliteracy, books, classic, humor]</td>\n",
              "    </tr>\n",
              "    <tr>\n",
              "      <th>4</th>\n",
              "      <td>“Imperfection is beauty, madness is genius and...</td>\n",
              "      <td>Marilyn Monroe</td>\n",
              "      <td>[be-yourself, inspirational]</td>\n",
              "    </tr>\n",
              "    <tr>\n",
              "      <th>5</th>\n",
              "      <td>“Try not to become a man of success. Rather be...</td>\n",
              "      <td>Albert Einstein</td>\n",
              "      <td>[adulthood, success, value]</td>\n",
              "    </tr>\n",
              "    <tr>\n",
              "      <th>6</th>\n",
              "      <td>“It is better to be hated for what you are tha...</td>\n",
              "      <td>André Gide</td>\n",
              "      <td>[life, love]</td>\n",
              "    </tr>\n",
              "    <tr>\n",
              "      <th>7</th>\n",
              "      <td>“I have not failed. I've just found 10,000 way...</td>\n",
              "      <td>Thomas A. Edison</td>\n",
              "      <td>[edison, failure, inspirational, paraphrased]</td>\n",
              "    </tr>\n",
              "    <tr>\n",
              "      <th>8</th>\n",
              "      <td>“A woman is like a tea bag; you never know how...</td>\n",
              "      <td>Eleanor Roosevelt</td>\n",
              "      <td>[misattributed-eleanor-roosevelt]</td>\n",
              "    </tr>\n",
              "    <tr>\n",
              "      <th>9</th>\n",
              "      <td>“A day without sunshine is like, you know, nig...</td>\n",
              "      <td>Steve Martin</td>\n",
              "      <td>[humor, obvious, simile]</td>\n",
              "    </tr>\n",
              "  </tbody>\n",
              "</table>\n",
              "</div>\n",
              "      <button class=\"colab-df-convert\" onclick=\"convertToInteractive('df-151ef976-04f5-4e94-b036-cfb5ad75a67e')\"\n",
              "              title=\"Convert this dataframe to an interactive table.\"\n",
              "              style=\"display:none;\">\n",
              "        \n",
              "  <svg xmlns=\"http://www.w3.org/2000/svg\" height=\"24px\"viewBox=\"0 0 24 24\"\n",
              "       width=\"24px\">\n",
              "    <path d=\"M0 0h24v24H0V0z\" fill=\"none\"/>\n",
              "    <path d=\"M18.56 5.44l.94 2.06.94-2.06 2.06-.94-2.06-.94-.94-2.06-.94 2.06-2.06.94zm-11 1L8.5 8.5l.94-2.06 2.06-.94-2.06-.94L8.5 2.5l-.94 2.06-2.06.94zm10 10l.94 2.06.94-2.06 2.06-.94-2.06-.94-.94-2.06-.94 2.06-2.06.94z\"/><path d=\"M17.41 7.96l-1.37-1.37c-.4-.4-.92-.59-1.43-.59-.52 0-1.04.2-1.43.59L10.3 9.45l-7.72 7.72c-.78.78-.78 2.05 0 2.83L4 21.41c.39.39.9.59 1.41.59.51 0 1.02-.2 1.41-.59l7.78-7.78 2.81-2.81c.8-.78.8-2.07 0-2.86zM5.41 20L4 18.59l7.72-7.72 1.47 1.35L5.41 20z\"/>\n",
              "  </svg>\n",
              "      </button>\n",
              "      \n",
              "  <style>\n",
              "    .colab-df-container {\n",
              "      display:flex;\n",
              "      flex-wrap:wrap;\n",
              "      gap: 12px;\n",
              "    }\n",
              "\n",
              "    .colab-df-convert {\n",
              "      background-color: #E8F0FE;\n",
              "      border: none;\n",
              "      border-radius: 50%;\n",
              "      cursor: pointer;\n",
              "      display: none;\n",
              "      fill: #1967D2;\n",
              "      height: 32px;\n",
              "      padding: 0 0 0 0;\n",
              "      width: 32px;\n",
              "    }\n",
              "\n",
              "    .colab-df-convert:hover {\n",
              "      background-color: #E2EBFA;\n",
              "      box-shadow: 0px 1px 2px rgba(60, 64, 67, 0.3), 0px 1px 3px 1px rgba(60, 64, 67, 0.15);\n",
              "      fill: #174EA6;\n",
              "    }\n",
              "\n",
              "    [theme=dark] .colab-df-convert {\n",
              "      background-color: #3B4455;\n",
              "      fill: #D2E3FC;\n",
              "    }\n",
              "\n",
              "    [theme=dark] .colab-df-convert:hover {\n",
              "      background-color: #434B5C;\n",
              "      box-shadow: 0px 1px 3px 1px rgba(0, 0, 0, 0.15);\n",
              "      filter: drop-shadow(0px 1px 2px rgba(0, 0, 0, 0.3));\n",
              "      fill: #FFFFFF;\n",
              "    }\n",
              "  </style>\n",
              "\n",
              "      <script>\n",
              "        const buttonEl =\n",
              "          document.querySelector('#df-151ef976-04f5-4e94-b036-cfb5ad75a67e button.colab-df-convert');\n",
              "        buttonEl.style.display =\n",
              "          google.colab.kernel.accessAllowed ? 'block' : 'none';\n",
              "\n",
              "        async function convertToInteractive(key) {\n",
              "          const element = document.querySelector('#df-151ef976-04f5-4e94-b036-cfb5ad75a67e');\n",
              "          const dataTable =\n",
              "            await google.colab.kernel.invokeFunction('convertToInteractive',\n",
              "                                                     [key], {});\n",
              "          if (!dataTable) return;\n",
              "\n",
              "          const docLinkHtml = 'Like what you see? Visit the ' +\n",
              "            '<a target=\"_blank\" href=https://colab.research.google.com/notebooks/data_table.ipynb>data table notebook</a>'\n",
              "            + ' to learn more about interactive tables.';\n",
              "          element.innerHTML = '';\n",
              "          dataTable['output_type'] = 'display_data';\n",
              "          await google.colab.output.renderOutput(dataTable, element);\n",
              "          const docLink = document.createElement('div');\n",
              "          docLink.innerHTML = docLinkHtml;\n",
              "          element.appendChild(docLink);\n",
              "        }\n",
              "      </script>\n",
              "    </div>\n",
              "  </div>\n",
              "  "
            ]
          },
          "metadata": {},
          "execution_count": 8
        }
      ]
    },
    {
      "cell_type": "markdown",
      "source": [
        "# **2 - Extraire des données sur les Auteurs :**"
      ],
      "metadata": {
        "id": "CHaTJOUH1AzI"
      }
    },
    {
      "cell_type": "markdown",
      "source": [
        "**On va suivre faire la même procedure pour extraire les données des auteurs :**"
      ],
      "metadata": {
        "id": "GE0qjKiI1X7g"
      }
    },
    {
      "cell_type": "markdown",
      "source": [
        "## **TO DO**\n",
        "- Essayer de suivre la meme procedure qu'on a déja fait pour extraire les quotes , mais cette fois pour extraire des données sur les auteurs (nom , date de naissance , bio)\n",
        "- Remplissez les champs fill_here dans le script author_spider.py"
      ],
      "metadata": {
        "id": "R7PWdgbbOJtb"
      }
    },
    {
      "cell_type": "code",
      "source": [
        "%%writefile -a author_spider.py\n",
        "import scrapy\n",
        "\n",
        "\n",
        "class AuthorSpider(scrapy.Spider):\n",
        "    name = 'author'\n",
        "\n",
        "    start_urls = ['https://quotes.toscrape.com/']\n",
        "\n",
        "    def parse(self, response):\n",
        "        author_page_links = response.css('.author + a')\n",
        "        yield from response.follow_all(author_page_links, self.parse_author)\n",
        "\n",
        "        pagination_links = response.css('li.next a')\n",
        "        yield from response.follow_all(pagination_links, self.parse)\n",
        "\n",
        "    def parse_author(self, response):\n",
        "        def extract_with_css(query):\n",
        "            return response.css(query).get(default='').strip()\n",
        "\n",
        "        yield {\n",
        "            'name': #fill_here,\n",
        "            'birthdate': #fill_here,\n",
        "            'bio': #fill_here,\n",
        "        }"
      ],
      "metadata": {
        "colab": {
          "base_uri": "https://localhost:8080/"
        },
        "id": "RadxUbh8mGUh",
        "outputId": "6439dc6d-2da4-4ef4-eee2-a87c0ba87472"
      },
      "execution_count": null,
      "outputs": [
        {
          "output_type": "stream",
          "name": "stdout",
          "text": [
            "Writing author_spider.py\n"
          ]
        }
      ]
    },
    {
      "cell_type": "code",
      "source": [
        "!scrapy crawl author"
      ],
      "metadata": {
        "id": "p3u0BKsXmc0_"
      },
      "execution_count": null,
      "outputs": []
    },
    {
      "cell_type": "code",
      "source": [
        "!scrapy crawl author -O authors.json"
      ],
      "metadata": {
        "id": "I3pmcmjTmlut"
      },
      "execution_count": null,
      "outputs": []
    },
    {
      "cell_type": "code",
      "source": [
        "df = pd.read_json('/content/firstproject/firstproject/spiders/authors.json')\n",
        "df.to_csv('data.csv')\n",
        "df.head(10)"
      ],
      "metadata": {
        "colab": {
          "base_uri": "https://localhost:8080/",
          "height": 363
        },
        "id": "_VTYq5PDms5b",
        "outputId": "67fd614a-0d58-4026-9317-820306bad443"
      },
      "execution_count": null,
      "outputs": [
        {
          "output_type": "execute_result",
          "data": {
            "text/plain": [
              "                name          birthdate  \\\n",
              "0    Albert Einstein     March 14, 1879   \n",
              "1         André Gide  November 22, 1869   \n",
              "2     Marilyn Monroe      June 01, 1926   \n",
              "3  Eleanor Roosevelt   October 11, 1884   \n",
              "4       J.K. Rowling      July 31, 1965   \n",
              "5       Steve Martin    August 14, 1945   \n",
              "6        Jane Austen  December 16, 1775   \n",
              "7   Thomas A. Edison  February 11, 1847   \n",
              "8     Allen Saunders     April 24, 1899   \n",
              "9         Mark Twain  November 30, 1835   \n",
              "\n",
              "                                                 bio  \n",
              "0  In 1879, Albert Einstein was born in Ulm, Germ...  \n",
              "1  André Paul Guillaume Gide was a French author ...  \n",
              "2  Marilyn Monroe (born Norma Jeane Mortenson; Ju...  \n",
              "3  Anna Eleanor Roosevelt was an American politic...  \n",
              "4  See also: Robert GalbraithAlthough she writes ...  \n",
              "5  Stephen Glenn \"Steve\" Martin is an American ac...  \n",
              "6  Jane Austen was an English novelist whose work...  \n",
              "7  Thomas Alva Edison was an American inventor, s...  \n",
              "8  Allen Saunders was an American writer, journal...  \n",
              "9  Samuel Langhorne Clemens, better known by his ...  "
            ],
            "text/html": [
              "\n",
              "  <div id=\"df-c0e54a69-5207-4911-88fe-e85262b448c4\">\n",
              "    <div class=\"colab-df-container\">\n",
              "      <div>\n",
              "<style scoped>\n",
              "    .dataframe tbody tr th:only-of-type {\n",
              "        vertical-align: middle;\n",
              "    }\n",
              "\n",
              "    .dataframe tbody tr th {\n",
              "        vertical-align: top;\n",
              "    }\n",
              "\n",
              "    .dataframe thead th {\n",
              "        text-align: right;\n",
              "    }\n",
              "</style>\n",
              "<table border=\"1\" class=\"dataframe\">\n",
              "  <thead>\n",
              "    <tr style=\"text-align: right;\">\n",
              "      <th></th>\n",
              "      <th>name</th>\n",
              "      <th>birthdate</th>\n",
              "      <th>bio</th>\n",
              "    </tr>\n",
              "  </thead>\n",
              "  <tbody>\n",
              "    <tr>\n",
              "      <th>0</th>\n",
              "      <td>Albert Einstein</td>\n",
              "      <td>March 14, 1879</td>\n",
              "      <td>In 1879, Albert Einstein was born in Ulm, Germ...</td>\n",
              "    </tr>\n",
              "    <tr>\n",
              "      <th>1</th>\n",
              "      <td>André Gide</td>\n",
              "      <td>November 22, 1869</td>\n",
              "      <td>André Paul Guillaume Gide was a French author ...</td>\n",
              "    </tr>\n",
              "    <tr>\n",
              "      <th>2</th>\n",
              "      <td>Marilyn Monroe</td>\n",
              "      <td>June 01, 1926</td>\n",
              "      <td>Marilyn Monroe (born Norma Jeane Mortenson; Ju...</td>\n",
              "    </tr>\n",
              "    <tr>\n",
              "      <th>3</th>\n",
              "      <td>Eleanor Roosevelt</td>\n",
              "      <td>October 11, 1884</td>\n",
              "      <td>Anna Eleanor Roosevelt was an American politic...</td>\n",
              "    </tr>\n",
              "    <tr>\n",
              "      <th>4</th>\n",
              "      <td>J.K. Rowling</td>\n",
              "      <td>July 31, 1965</td>\n",
              "      <td>See also: Robert GalbraithAlthough she writes ...</td>\n",
              "    </tr>\n",
              "    <tr>\n",
              "      <th>5</th>\n",
              "      <td>Steve Martin</td>\n",
              "      <td>August 14, 1945</td>\n",
              "      <td>Stephen Glenn \"Steve\" Martin is an American ac...</td>\n",
              "    </tr>\n",
              "    <tr>\n",
              "      <th>6</th>\n",
              "      <td>Jane Austen</td>\n",
              "      <td>December 16, 1775</td>\n",
              "      <td>Jane Austen was an English novelist whose work...</td>\n",
              "    </tr>\n",
              "    <tr>\n",
              "      <th>7</th>\n",
              "      <td>Thomas A. Edison</td>\n",
              "      <td>February 11, 1847</td>\n",
              "      <td>Thomas Alva Edison was an American inventor, s...</td>\n",
              "    </tr>\n",
              "    <tr>\n",
              "      <th>8</th>\n",
              "      <td>Allen Saunders</td>\n",
              "      <td>April 24, 1899</td>\n",
              "      <td>Allen Saunders was an American writer, journal...</td>\n",
              "    </tr>\n",
              "    <tr>\n",
              "      <th>9</th>\n",
              "      <td>Mark Twain</td>\n",
              "      <td>November 30, 1835</td>\n",
              "      <td>Samuel Langhorne Clemens, better known by his ...</td>\n",
              "    </tr>\n",
              "  </tbody>\n",
              "</table>\n",
              "</div>\n",
              "      <button class=\"colab-df-convert\" onclick=\"convertToInteractive('df-c0e54a69-5207-4911-88fe-e85262b448c4')\"\n",
              "              title=\"Convert this dataframe to an interactive table.\"\n",
              "              style=\"display:none;\">\n",
              "        \n",
              "  <svg xmlns=\"http://www.w3.org/2000/svg\" height=\"24px\"viewBox=\"0 0 24 24\"\n",
              "       width=\"24px\">\n",
              "    <path d=\"M0 0h24v24H0V0z\" fill=\"none\"/>\n",
              "    <path d=\"M18.56 5.44l.94 2.06.94-2.06 2.06-.94-2.06-.94-.94-2.06-.94 2.06-2.06.94zm-11 1L8.5 8.5l.94-2.06 2.06-.94-2.06-.94L8.5 2.5l-.94 2.06-2.06.94zm10 10l.94 2.06.94-2.06 2.06-.94-2.06-.94-.94-2.06-.94 2.06-2.06.94z\"/><path d=\"M17.41 7.96l-1.37-1.37c-.4-.4-.92-.59-1.43-.59-.52 0-1.04.2-1.43.59L10.3 9.45l-7.72 7.72c-.78.78-.78 2.05 0 2.83L4 21.41c.39.39.9.59 1.41.59.51 0 1.02-.2 1.41-.59l7.78-7.78 2.81-2.81c.8-.78.8-2.07 0-2.86zM5.41 20L4 18.59l7.72-7.72 1.47 1.35L5.41 20z\"/>\n",
              "  </svg>\n",
              "      </button>\n",
              "      \n",
              "  <style>\n",
              "    .colab-df-container {\n",
              "      display:flex;\n",
              "      flex-wrap:wrap;\n",
              "      gap: 12px;\n",
              "    }\n",
              "\n",
              "    .colab-df-convert {\n",
              "      background-color: #E8F0FE;\n",
              "      border: none;\n",
              "      border-radius: 50%;\n",
              "      cursor: pointer;\n",
              "      display: none;\n",
              "      fill: #1967D2;\n",
              "      height: 32px;\n",
              "      padding: 0 0 0 0;\n",
              "      width: 32px;\n",
              "    }\n",
              "\n",
              "    .colab-df-convert:hover {\n",
              "      background-color: #E2EBFA;\n",
              "      box-shadow: 0px 1px 2px rgba(60, 64, 67, 0.3), 0px 1px 3px 1px rgba(60, 64, 67, 0.15);\n",
              "      fill: #174EA6;\n",
              "    }\n",
              "\n",
              "    [theme=dark] .colab-df-convert {\n",
              "      background-color: #3B4455;\n",
              "      fill: #D2E3FC;\n",
              "    }\n",
              "\n",
              "    [theme=dark] .colab-df-convert:hover {\n",
              "      background-color: #434B5C;\n",
              "      box-shadow: 0px 1px 3px 1px rgba(0, 0, 0, 0.15);\n",
              "      filter: drop-shadow(0px 1px 2px rgba(0, 0, 0, 0.3));\n",
              "      fill: #FFFFFF;\n",
              "    }\n",
              "  </style>\n",
              "\n",
              "      <script>\n",
              "        const buttonEl =\n",
              "          document.querySelector('#df-c0e54a69-5207-4911-88fe-e85262b448c4 button.colab-df-convert');\n",
              "        buttonEl.style.display =\n",
              "          google.colab.kernel.accessAllowed ? 'block' : 'none';\n",
              "\n",
              "        async function convertToInteractive(key) {\n",
              "          const element = document.querySelector('#df-c0e54a69-5207-4911-88fe-e85262b448c4');\n",
              "          const dataTable =\n",
              "            await google.colab.kernel.invokeFunction('convertToInteractive',\n",
              "                                                     [key], {});\n",
              "          if (!dataTable) return;\n",
              "\n",
              "          const docLinkHtml = 'Like what you see? Visit the ' +\n",
              "            '<a target=\"_blank\" href=https://colab.research.google.com/notebooks/data_table.ipynb>data table notebook</a>'\n",
              "            + ' to learn more about interactive tables.';\n",
              "          element.innerHTML = '';\n",
              "          dataTable['output_type'] = 'display_data';\n",
              "          await google.colab.output.renderOutput(dataTable, element);\n",
              "          const docLink = document.createElement('div');\n",
              "          docLink.innerHTML = docLinkHtml;\n",
              "          element.appendChild(docLink);\n",
              "        }\n",
              "      </script>\n",
              "    </div>\n",
              "  </div>\n",
              "  "
            ]
          },
          "metadata": {},
          "execution_count": 12
        }
      ]
    },
    {
      "cell_type": "markdown",
      "source": [
        "**- Voici le lien Colab :** https://colab.research.google.com/github/zinebzannouti/Web-Scraping/blob/main/Exercice/3_Web_Scraping_avec_Scrapy.ipynb#scrollTo=cgfkCmYjt-HD"
      ],
      "metadata": {
        "id": "cgfkCmYjt-HD"
      }
    }
  ]
}